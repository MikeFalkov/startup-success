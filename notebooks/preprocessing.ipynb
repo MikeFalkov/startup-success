{
 "cells": [
  {
   "metadata": {},
   "cell_type": "code",
   "outputs": [],
   "execution_count": null,
   "source": [
    "# Imports\n",
    "import pandas as pd\n",
    "import numpy as np\n",
    "import seaborn as sns\n",
    "import matplotlib.pyplot as plt\n",
    "from pathlib import Path\n"
   ],
   "id": "174c9637cb6d11fa"
  },
  {
   "metadata": {},
   "cell_type": "code",
   "outputs": [],
   "execution_count": null,
   "source": [
    "# Paths\n",
    "data_path = Path(\"big_startup_secsees_dataset.csv\")\n",
    "clean_output = Path(\"clean_df.csv\")\n",
    "model_output = Path(\"preprocessed_data.csv\")\n"
   ],
   "id": "c735bf9995c3f03c"
  },
  {
   "metadata": {},
   "cell_type": "code",
   "outputs": [],
   "execution_count": null,
   "source": [
    "# Load data\n",
    "df = pd.read_csv(data_path)\n"
   ],
   "id": "67db4a394012adf5"
  },
  {
   "metadata": {},
   "cell_type": "code",
   "outputs": [],
   "execution_count": null,
   "source": [
    "# Initial inspection\n",
    "df.info()\n",
    "print(df.describe(include='all'))\n",
    "print(df.head())\n"
   ],
   "id": "c8ad622dd4077d75"
  },
  {
   "metadata": {},
   "cell_type": "code",
   "outputs": [],
   "execution_count": null,
   "source": [
    "# Nulls, duplicates, and target creation\n",
    "print(df.isnull().sum())\n",
    "print(f\"Duplicate rows: {df.duplicated().sum()}\")\n",
    "\n",
    "df['success'] = df['status'].apply(lambda x: 0 if x == 'closed' else 1)\n"
   ],
   "id": "caf36ea5ce9da4bb"
  },
  {
   "metadata": {},
   "cell_type": "code",
   "outputs": [],
   "execution_count": null,
   "source": [
    "# Drop unnecessary columns\n",
    "df.drop(columns=['permalink', 'homepage_url', 'name', 'status', 'state_code'], inplace=True)\n"
   ],
   "id": "c81b295c5c4a1b26"
  },
  {
   "metadata": {},
   "cell_type": "code",
   "outputs": [],
   "execution_count": null,
   "source": [
    "# Handle missing values\n",
    "fill_cols = ['category_list', 'country_code', 'region', 'city']\n",
    "df[fill_cols] = df[fill_cols].fillna('Unknown')\n",
    "df.dropna(subset=['first_funding_at'], inplace=True)\n"
   ],
   "id": "86379c43b42b76f5"
  },
  {
   "metadata": {},
   "cell_type": "code",
   "outputs": [],
   "execution_count": null,
   "source": [
    "# Clean funding values\n",
    "df['funding_total_usd'] = df['funding_total_usd'].replace('-', np.nan)\n",
    "df['funding_total_usd'] = pd.to_numeric(df['funding_total_usd'], errors='coerce')\n"
   ],
   "id": "91d2dab39a8da013"
  },
  {
   "metadata": {},
   "cell_type": "code",
   "outputs": [],
   "execution_count": null,
   "source": [
    "# Convert date columns and extract date features\n",
    "df['founded_at'] = pd.to_datetime(df['founded_at'], errors='coerce')\n",
    "df['first_funding_at'] = pd.to_datetime(df['first_funding_at'], errors='coerce')\n",
    "df['last_funding_at'] = pd.to_datetime(df['last_funding_at'], errors='coerce')\n",
    "\n",
    "df['founded_year'] = df['founded_at'].dt.year\n",
    "df['first_funding_year'] = df['first_funding_at'].dt.year\n",
    "df['last_funding_year'] = df['last_funding_at'].dt.year\n",
    "df['days_to_first_funding'] = (df['first_funding_at'] - df['founded_at']).dt.days\n",
    "df['funding_duration'] = (df['last_funding_at'] - df['first_funding_at']).dt.days\n"
   ],
   "id": "8591b34273661185"
  },
  {
   "metadata": {},
   "cell_type": "code",
   "outputs": [],
   "execution_count": null,
   "source": [
    "# Remove funding outliers > $5B\n",
    "df = df[df['funding_total_usd'] <= 5_000_000_000]\n"
   ],
   "id": "54f558c2880852e8"
  },
  {
   "metadata": {},
   "cell_type": "code",
   "outputs": [],
   "execution_count": null,
   "source": [
    "# Remove implausible founding years\n",
    "df = df[(df['founded_year'] >= 1990) & (df['founded_year'] <= 2015)]\n"
   ],
   "id": "e6f86e7754b97ff5"
  },
  {
   "metadata": {},
   "cell_type": "code",
   "outputs": [],
   "execution_count": null,
   "source": [
    "# Drop remaining nulls in engineered columns\n",
    "df.dropna(subset=[\n",
    "    'first_funding_at', 'first_funding_year', 'days_to_first_funding', 'funding_duration'\n",
    "], inplace=True)\n"
   ],
   "id": "477e51e11127c043"
  },
  {
   "metadata": {},
   "cell_type": "code",
   "outputs": [],
   "execution_count": null,
   "source": [
    "# Simplify category_list into top N or \"Other\"\n",
    "top_categories = df['category_list'].value_counts().nlargest(10).index\n",
    "df['category_grouped'] = df['category_list'].apply(lambda x: x if x in top_categories else 'Other')\n"
   ],
   "id": "5e32de636bbb044a"
  },
  {
   "metadata": {},
   "cell_type": "code",
   "outputs": [],
   "execution_count": null,
   "source": [
    "# TF-IDF + KMeans clustering of category_list\n",
    "from sklearn.feature_extraction.text import TfidfVectorizer\n",
    "from sklearn.cluster import KMeans\n",
    "\n",
    "unique_categories = pd.Series(df['category_list'].dropna().unique())\n",
    "vectorizer = TfidfVectorizer(stop_words='english', ngram_range=(1, 2), max_df=0.95, min_df=2)\n",
    "X = vectorizer.fit_transform(unique_categories)\n",
    "\n",
    "n_clusters = 20\n",
    "kmeans = KMeans(n_clusters=n_clusters, random_state=42)\n",
    "clusters = kmeans.fit_predict(X)\n",
    "\n",
    "clustered_df = pd.DataFrame({\n",
    "    'original_category': unique_categories,\n",
    "    'cluster': clusters\n",
    "})\n",
    "category_to_cluster = dict(zip(clustered_df['original_category'], clustered_df['cluster']))\n",
    "df['category_cluster'] = df['category_list'].map(category_to_cluster)\n"
   ],
   "id": "8ed0406a2edc842d"
  },
  {
   "metadata": {},
   "cell_type": "code",
   "outputs": [],
   "execution_count": null,
   "source": [
    "# Manually map cluster numbers to names (optional but illustrative)\n",
    "cluster_name_map = {\n",
    "    0: 'Social Apps', 1: 'Health & Wellness', 2: 'Social Networks', 3: 'Cloud & SaaS',\n",
    "    4: 'Mobile & Games', 5: 'E-commerce & Fashion', 6: 'Web Development', 7: 'General Tech',\n",
    "    8: 'Health IT', 9: 'Curated Media', 10: 'Consumer Hardware', 11: 'Education',\n",
    "    12: 'Big Data & Analytics', 13: 'Enterprise Software', 14: 'Project & Investment Mgmt',\n",
    "    15: 'Social Marketing', 16: 'Location & Finance', 17: 'Clean Tech & Info Services',\n",
    "    18: '3D & Printing', 19: 'Marketing & Sales'\n",
    "}\n",
    "df['category_cluster_name'] = df['category_cluster'].map(cluster_name_map)\n"
   ],
   "id": "970e5353c1b90c"
  },
  {
   "metadata": {},
   "cell_type": "code",
   "outputs": [],
   "execution_count": null,
   "source": [
    "# Drop non-essential columns for ML\n",
    "df_model = df.drop(columns=[\n",
    "    'category_list', 'founded_at', 'first_funding_at', 'last_funding_at',\n",
    "    'category_grouped', 'category_cluster_name'\n",
    "])\n",
    "\n",
    "# Type conversion\n",
    "df_model = df_model.astype({\n",
    "    'founded_year': int,\n",
    "    'first_funding_year': int,\n",
    "    'funding_total_usd': int\n",
    "})\n"
   ],
   "id": "40f8b8ac4e357e51"
  },
  {
   "metadata": {},
   "cell_type": "code",
   "outputs": [],
   "execution_count": null,
   "source": [
    "# Export cleaned datasets\n",
    "df.to_csv(clean_output, index=False)\n",
    "df_model.to_csv(model_output, index=False)\n"
   ],
   "id": "23167ca8462b92a5"
  }
 ],
 "metadata": {
  "kernelspec": {
   "display_name": "Python 3 (ipykernel)",
   "language": "python",
   "name": "python3"
  },
  "language_info": {
   "codemirror_mode": {
    "name": "ipython",
    "version": 3
   },
   "file_extension": ".py",
   "mimetype": "text/x-python",
   "name": "python",
   "nbconvert_exporter": "python",
   "pygments_lexer": "ipython3",
   "version": "3.12.7"
  }
 },
 "nbformat": 4,
 "nbformat_minor": 5
}
